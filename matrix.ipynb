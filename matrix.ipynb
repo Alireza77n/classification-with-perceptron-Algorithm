{
 "cells": [
  {
   "cell_type": "code",
   "execution_count": 1,
   "id": "6308f2b9",
   "metadata": {},
   "outputs": [],
   "source": [
    "import numpy as np\n",
    "import pandas as pd\n",
    "import matplotlib.pyplot as plt\n"
   ]
  },
  {
   "cell_type": "code",
   "execution_count": 2,
   "id": "6cc7dace",
   "metadata": {},
   "outputs": [],
   "source": [
    "class neutral_network:\n",
    "    def __init__(self,L,I,theta):\n",
    "        self.L=L # matrix L\n",
    "        self.I=I # matrix L\n",
    "        self.theta=theta #weight neutral network that is small random value\n",
    "        self.E=0 # total Error\n",
    "    def step_function(self,y):\n",
    "        # if input matrix is L then step function return 1 else return 0\n",
    "        Y=np.array([[0,0]])\n",
    "        if y[0][0]>0:\n",
    "            Y[0][0]=1\n",
    "        else:\n",
    "             Y[0][0]=0\n",
    "        # if input matrix is I then step function return 1 else return 0        \n",
    "        if y[0][1]>0:\n",
    "            Y[0][1]=1\n",
    "        else:\n",
    "             Y[0][1]=0        \n",
    "        return Y\n",
    "    \n",
    "    \n",
    "    def train_data(self,learning_rate,epochs):\n",
    "        labale_target_L=0 #labale target fot L matrix\n",
    "        labale_target_I=0 #labale target fot L matrix\n",
    "        labale_target=[]  #2-dimentional node for L matrix and I matrix\n",
    "        for i in range(epochs):\n",
    "            matrix_sample = np.random.randint(0,2, size=(3,3)) #generate random matrix,dimension 3x3,elements is 0 or 1\n",
    "            # if the generation random matrix is L then labale_target_L is 1 else 0 \n",
    "            if (self.L==matrix_sample).all():\n",
    "                labale_target_L=1\n",
    "                \n",
    "            else:\n",
    "                labale_target_L=0\n",
    "            # if the generation random matrix is I then labale_target_I is 1 else 0     \n",
    "            if (self.I==matrix_sample).all():\n",
    "                labale_target_I=1\n",
    "                \n",
    "            else:\n",
    "                labale_target_I=0\n",
    "            #create node for L matrix and I matrix    \n",
    "            labale_target.append(labale_target_L) \n",
    "            labale_target.append(labale_target_I)\n",
    "            matrix_sample=matrix_sample.reshape(-1,1) #covert the matrix to vector whit size 9x1\n",
    "            matrix_sample_with_bias=np.append(matrix_sample,[1])# add bias node to neutral network\n",
    "            matrix_sample_with_bias=matrix_sample_with_bias.reshape(-1,1)  #covert the matri_xwith_bias to vector whit size 10x1\n",
    "            y_predict=self.step_function(np.dot (matrix_sample_with_bias.T, self.theta)) # sum(x.w) send to step_function\n",
    "            \n",
    "            Error=labale_target-y_predict #Error between real class and predict class\n",
    "            self.E+=Error.sum() # total Error\n",
    "            #if total Error is not  0 then modify weight\n",
    "            if self.E!=0:\n",
    "                self.theta+=learning_rate * Error * matrix_sample_with_bias\n",
    "                #self.n_miss+=1\n",
    "            labale_target=[]   \n",
    "        #if total Error is not 0 then total number equal to 0 and start training step    \n",
    "        if  self.E!=0:\n",
    "            self.E=0\n",
    "            self. train_data(learning_rate,epochs)\n",
    "        else:\n",
    "            return\n",
    "    \n",
    "    \n",
    "    \n",
    "    def output_node(self,matrix):\n",
    "        labale_target_L=0 #labale target fot L matrix\n",
    "        labale_target_I=0 #labale target fot L matrix\n",
    "        labale_target=[]  #2-dimentional node for L matrix and I matrix\n",
    "     \n",
    "        if (self.L==matrix).all():\n",
    "            labale_target_L=1\n",
    "                \n",
    "        else:\n",
    "            labale_target_L=0\n",
    "            # if the generation random matrix is I then labale_target_I is 1 else 0     \n",
    "        if (self.I==matrix).all():\n",
    "            labale_target_I=1\n",
    "                \n",
    "        else:\n",
    "            abale_target_I=0\n",
    "            #create node for L matrix and I matrix    \n",
    "        labale_target.append(labale_target_L) \n",
    "        labale_target.append(labale_target_I)\n",
    "        matrix=matrix.reshape(-1,1) #covert the matrix to vector whit size 9x1\n",
    "        matrix_with_bias=np.append(matrix,[1])# add bias node to neutral network\n",
    "        matrix_with_bias=matrix_with_bias.reshape(-1,1)  #covert the matri_xwith_bias to vector whit size 10x1\n",
    "        return self.step_function(np.dot (matrix_with_bias.T, self.theta))# output for input matrix that determination the state matrix\n",
    "        "
   ]
  },
  {
   "cell_type": "markdown",
   "id": "43d1894d",
   "metadata": {},
   "source": [
    "# test algorithm with L and I"
   ]
  },
  {
   "cell_type": "code",
   "execution_count": 3,
   "id": "893a9a51",
   "metadata": {},
   "outputs": [],
   "source": [
    "l=np.array([[1,0,0],[1,0,0],[1,1,1]])# definition L matrix\n",
    "i=np.array([[0,1,0],[0,1,0],[0,1,0]]) # definition I matrix\n",
    "theta= np.random.default_rng().uniform(0,1,(10,2)) # generating weights neutral network that is small random value\n"
   ]
  },
  {
   "cell_type": "code",
   "execution_count": 4,
   "id": "c2f0a28a",
   "metadata": {},
   "outputs": [],
   "source": [
    "obj=neutral_network(l,i,theta)# get instance object,input include L and I and weight\n"
   ]
  },
  {
   "cell_type": "code",
   "execution_count": 5,
   "id": "a7d38d72",
   "metadata": {},
   "outputs": [],
   "source": [
    "obj.train_data(0.5,10000)# training data with learning rate 0.5 and epouchs 1000"
   ]
  },
  {
   "cell_type": "code",
   "execution_count": 6,
   "id": "76d274a2",
   "metadata": {},
   "outputs": [
    {
     "data": {
      "text/plain": [
       "array([[1, 0]])"
      ]
     },
     "execution_count": 6,
     "metadata": {},
     "output_type": "execute_result"
    }
   ],
   "source": [
    "l=np.array([[1,0,0],[1,0,0],[1,1,1]])\n",
    "obj.theta # weight final after training\n",
    "obj.output_node(l)# determination the state matrix"
   ]
  },
  {
   "cell_type": "code",
   "execution_count": 7,
   "id": "b76e2ac1",
   "metadata": {},
   "outputs": [
    {
     "data": {
      "text/plain": [
       "array([[0, 1]])"
      ]
     },
     "execution_count": 7,
     "metadata": {},
     "output_type": "execute_result"
    }
   ],
   "source": [
    "obj.output_node(i)"
   ]
  },
  {
   "cell_type": "markdown",
   "id": "a1160051",
   "metadata": {},
   "source": [
    "# changing input matrix"
   ]
  },
  {
   "cell_type": "code",
   "execution_count": 8,
   "id": "411c2dec",
   "metadata": {},
   "outputs": [
    {
     "data": {
      "text/plain": [
       "array([[1, 0, 1],\n",
       "       [1, 0, 1],\n",
       "       [1, 0, 1]])"
      ]
     },
     "execution_count": 8,
     "metadata": {},
     "output_type": "execute_result"
    }
   ],
   "source": [
    "array = np.random.randint(0,2, size=(3,3)) #generate random matrix,dimension 3x3,elements is 0 or 1\n",
    "array"
   ]
  },
  {
   "cell_type": "code",
   "execution_count": 9,
   "id": "863357aa",
   "metadata": {},
   "outputs": [
    {
     "data": {
      "text/plain": [
       "array([[0, 0]])"
      ]
     },
     "execution_count": 9,
     "metadata": {},
     "output_type": "execute_result"
    }
   ],
   "source": [
    "obj.output_node(array) #determination the state matrix"
   ]
  },
  {
   "cell_type": "code",
   "execution_count": 10,
   "id": "85e1a583",
   "metadata": {},
   "outputs": [],
   "source": [
    "change_L=np.array([[1,0,0],[1,1,0],[1,0,1]]) #change element of L matrix\n"
   ]
  },
  {
   "cell_type": "code",
   "execution_count": 11,
   "id": "5c2113a9",
   "metadata": {},
   "outputs": [
    {
     "data": {
      "text/plain": [
       "array([[0, 0]])"
      ]
     },
     "execution_count": 11,
     "metadata": {},
     "output_type": "execute_result"
    }
   ],
   "source": [
    "obj.output_node(change_L)"
   ]
  }
 ],
 "metadata": {
  "kernelspec": {
   "display_name": "Python 3",
   "language": "python",
   "name": "python3"
  },
  "language_info": {
   "codemirror_mode": {
    "name": "ipython",
    "version": 3
   },
   "file_extension": ".py",
   "mimetype": "text/x-python",
   "name": "python",
   "nbconvert_exporter": "python",
   "pygments_lexer": "ipython3",
   "version": "3.8.8"
  }
 },
 "nbformat": 4,
 "nbformat_minor": 5
}
